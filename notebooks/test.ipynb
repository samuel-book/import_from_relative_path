{
 "cells": [
  {
   "cell_type": "code",
   "execution_count": 1,
   "metadata": {},
   "outputs": [],
   "source": [
    "# Import from a relative path\n",
    "import os\n",
    "import sys\n",
    "# Get current working directory (absolute path)\n",
    "cwd = os.getcwd()\n",
    "# Define path to where package is (this goes up one directory)\n",
    "path = cwd + '/../'\n",
    "# Add path so Python will look here\n",
    "from pathlib import Path\n",
    "sys.path.append(path)\n",
    "# We can now import the helper module\n",
    "from utils import helper"
   ]
  },
  {
   "cell_type": "code",
   "execution_count": 2,
   "metadata": {},
   "outputs": [
    {
     "data": {
      "text/plain": [
       "3"
      ]
     },
     "execution_count": 2,
     "metadata": {},
     "output_type": "execute_result"
    }
   ],
   "source": [
    "helper.add_two_numbers(1,2)"
   ]
  },
  {
   "cell_type": "code",
   "execution_count": null,
   "metadata": {},
   "outputs": [],
   "source": []
  }
 ],
 "metadata": {
  "kernelspec": {
   "display_name": "Python 3 (ipykernel)",
   "language": "python",
   "name": "python3"
  },
  "language_info": {
   "codemirror_mode": {
    "name": "ipython",
    "version": 3
   },
   "file_extension": ".py",
   "mimetype": "text/x-python",
   "name": "python",
   "nbconvert_exporter": "python",
   "pygments_lexer": "ipython3",
   "version": "3.9.12"
  },
  "vscode": {
   "interpreter": {
    "hash": "454c770916b6454c0a88ff275a86b0749913e3b5fd95e06480f7c2ec33b94adf"
   }
  }
 },
 "nbformat": 4,
 "nbformat_minor": 4
}
